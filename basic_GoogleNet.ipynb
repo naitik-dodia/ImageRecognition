{
  "nbformat": 4,
  "nbformat_minor": 0,
  "metadata": {
    "colab": {
      "name": "GoogleNet",
      "version": "0.3.2",
      "provenance": []
    },
    "kernelspec": {
      "name": "python3",
      "display_name": "Python 3"
    },
    "accelerator": "GPU"
  },
  "cells": [
    {
      "metadata": {
        "id": "kX5CJ5XWp5Ll",
        "colab_type": "code",
        "colab": {}
      },
      "cell_type": "code",
      "source": [
        "import keras"
      ],
      "execution_count": 0,
      "outputs": []
    },
    {
      "metadata": {
        "id": "w6o-HEI_p5L0",
        "colab_type": "code",
        "colab": {}
      },
      "cell_type": "code",
      "source": [
        "from keras.models import Model\n",
        "from keras.layers import Conv2D, MaxPool2D, Dense, Flatten, Input, Concatenate, AveragePooling2D\n",
        "from keras.optimizers import adam, sgd\n",
        "from keras.losses import categorical_crossentropy\n",
        "from keras.utils import to_categorical\n",
        "import numpy as np"
      ],
      "execution_count": 0,
      "outputs": []
    },
    {
      "metadata": {
        "id": "2xEVwf2hp5L7",
        "colab_type": "code",
        "colab": {}
      },
      "cell_type": "code",
      "source": [
        "from keras.datasets import cifar10\n",
        "(x_train, y_train), (x_test, y_test) = cifar10.load_data()"
      ],
      "execution_count": 0,
      "outputs": []
    },
    {
      "metadata": {
        "id": "_Eg4C4AOp5MC",
        "colab_type": "code",
        "colab": {}
      },
      "cell_type": "code",
      "source": [
        "def inception_module(prev_layer):\n",
        "    #main_input = Input(shape = input_shape, d_type = 'float32')\n",
        "    x1 = Conv2D(filters = 64, kernel_size = (1,1), padding = 'same')(prev_layer)\n",
        "    x2 = Conv2D(filters = 64, kernel_size = (3,3), padding = 'same')(prev_layer)\n",
        "    x3 = Conv2D(filters = 64, kernel_size = (5,5), padding = 'same')(prev_layer)\n",
        "    x4 = MaxPool2D(strides = (1,1),padding = 'same')(prev_layer)\n",
        "    concat = keras.layers.concatenate([x1,x2,x3,x4] , axis = 3) \n",
        "    return concat"
      ],
      "execution_count": 0,
      "outputs": []
    },
    {
      "metadata": {
        "id": "dQiyeCmbp5MH",
        "colab_type": "code",
        "colab": {}
      },
      "cell_type": "code",
      "source": [
        "def create_googleNet(input_shape, num_classes):\n",
        "    main_input = Input(shape = input_shape, dtype = 'float32')\n",
        "    conv1 = Conv2D(15, kernel_size = (3,3))(main_input)\n",
        "    prev_layer = conv1\n",
        "    \n",
        "    for i in range(3):\n",
        "        x = inception_module(prev_layer)\n",
        "        x2 = MaxPool2D()(x)\n",
        "        prev_layer = x2\n",
        "        \n",
        "    avgpool = AveragePooling2D()(prev_layer)\n",
        "    flat = Flatten()(avgpool)\n",
        "    den1 = Dense(64, activation='relu')(flat)\n",
        "    main_output = Dense(num_classes, activation = 'softmax')(den1)\n",
        "    model = Model(inputs=[main_input], outputs=[main_output])\n",
        "    return model"
      ],
      "execution_count": 0,
      "outputs": []
    },
    {
      "metadata": {
        "id": "PTrMFg0Dp5MN",
        "colab_type": "code",
        "colab": {}
      },
      "cell_type": "code",
      "source": [
        "num_classes = np.max(y_train) - np.min(y_train) + 1\n",
        "batch_size = 128\n",
        "epochs = 20"
      ],
      "execution_count": 0,
      "outputs": []
    },
    {
      "metadata": {
        "id": "6blN-5d2p5MS",
        "colab_type": "code",
        "colab": {}
      },
      "cell_type": "code",
      "source": [
        "x_train = x_train.astype('float32') \n",
        "x_test = x_test.astype('float32') \n",
        "x_train /= 255\n",
        "x_test /= 255\n",
        "y_train = to_categorical(y_train, num_classes=num_classes)\n",
        "y_test = to_categorical(y_test, num_classes=num_classes)"
      ],
      "execution_count": 0,
      "outputs": []
    },
    {
      "metadata": {
        "id": "1SL8WlkGp5MX",
        "colab_type": "code",
        "colab": {}
      },
      "cell_type": "code",
      "source": [
        "model = create_googleNet(x_train[0].shape, num_classes)"
      ],
      "execution_count": 0,
      "outputs": []
    },
    {
      "metadata": {
        "id": "_UdPegi-p5Md",
        "colab_type": "code",
        "colab": {}
      },
      "cell_type": "code",
      "source": [
        "model.compile(loss = 'categorical_crossentropy', optimizer = adam(), metrics = ['accuracy'])"
      ],
      "execution_count": 0,
      "outputs": []
    },
    {
      "metadata": {
        "id": "faXydIuNp5Mm",
        "colab_type": "code",
        "colab": {
          "base_uri": "https://localhost:8080/",
          "height": 1105
        },
        "outputId": "241117a8-3b3e-4eb8-fb14-5253046e4eb5"
      },
      "cell_type": "code",
      "source": [
        "model.summary()"
      ],
      "execution_count": 28,
      "outputs": [
        {
          "output_type": "stream",
          "text": [
            "__________________________________________________________________________________________________\n",
            "Layer (type)                    Output Shape         Param #     Connected to                     \n",
            "==================================================================================================\n",
            "input_3 (InputLayer)            (None, 32, 32, 3)    0                                            \n",
            "__________________________________________________________________________________________________\n",
            "conv2d_21 (Conv2D)              (None, 30, 30, 15)   420         input_3[0][0]                    \n",
            "__________________________________________________________________________________________________\n",
            "conv2d_22 (Conv2D)              (None, 30, 30, 64)   1024        conv2d_21[0][0]                  \n",
            "__________________________________________________________________________________________________\n",
            "conv2d_23 (Conv2D)              (None, 30, 30, 64)   8704        conv2d_21[0][0]                  \n",
            "__________________________________________________________________________________________________\n",
            "conv2d_24 (Conv2D)              (None, 30, 30, 64)   24064       conv2d_21[0][0]                  \n",
            "__________________________________________________________________________________________________\n",
            "max_pooling2d_13 (MaxPooling2D) (None, 30, 30, 15)   0           conv2d_21[0][0]                  \n",
            "__________________________________________________________________________________________________\n",
            "concatenate_7 (Concatenate)     (None, 30, 30, 207)  0           conv2d_22[0][0]                  \n",
            "                                                                 conv2d_23[0][0]                  \n",
            "                                                                 conv2d_24[0][0]                  \n",
            "                                                                 max_pooling2d_13[0][0]           \n",
            "__________________________________________________________________________________________________\n",
            "max_pooling2d_14 (MaxPooling2D) (None, 15, 15, 207)  0           concatenate_7[0][0]              \n",
            "__________________________________________________________________________________________________\n",
            "conv2d_25 (Conv2D)              (None, 15, 15, 64)   13312       max_pooling2d_14[0][0]           \n",
            "__________________________________________________________________________________________________\n",
            "conv2d_26 (Conv2D)              (None, 15, 15, 64)   119296      max_pooling2d_14[0][0]           \n",
            "__________________________________________________________________________________________________\n",
            "conv2d_27 (Conv2D)              (None, 15, 15, 64)   331264      max_pooling2d_14[0][0]           \n",
            "__________________________________________________________________________________________________\n",
            "max_pooling2d_15 (MaxPooling2D) (None, 15, 15, 207)  0           max_pooling2d_14[0][0]           \n",
            "__________________________________________________________________________________________________\n",
            "concatenate_8 (Concatenate)     (None, 15, 15, 399)  0           conv2d_25[0][0]                  \n",
            "                                                                 conv2d_26[0][0]                  \n",
            "                                                                 conv2d_27[0][0]                  \n",
            "                                                                 max_pooling2d_15[0][0]           \n",
            "__________________________________________________________________________________________________\n",
            "max_pooling2d_16 (MaxPooling2D) (None, 7, 7, 399)    0           concatenate_8[0][0]              \n",
            "__________________________________________________________________________________________________\n",
            "conv2d_28 (Conv2D)              (None, 7, 7, 64)     25600       max_pooling2d_16[0][0]           \n",
            "__________________________________________________________________________________________________\n",
            "conv2d_29 (Conv2D)              (None, 7, 7, 64)     229888      max_pooling2d_16[0][0]           \n",
            "__________________________________________________________________________________________________\n",
            "conv2d_30 (Conv2D)              (None, 7, 7, 64)     638464      max_pooling2d_16[0][0]           \n",
            "__________________________________________________________________________________________________\n",
            "max_pooling2d_17 (MaxPooling2D) (None, 7, 7, 399)    0           max_pooling2d_16[0][0]           \n",
            "__________________________________________________________________________________________________\n",
            "concatenate_9 (Concatenate)     (None, 7, 7, 591)    0           conv2d_28[0][0]                  \n",
            "                                                                 conv2d_29[0][0]                  \n",
            "                                                                 conv2d_30[0][0]                  \n",
            "                                                                 max_pooling2d_17[0][0]           \n",
            "__________________________________________________________________________________________________\n",
            "max_pooling2d_18 (MaxPooling2D) (None, 3, 3, 591)    0           concatenate_9[0][0]              \n",
            "__________________________________________________________________________________________________\n",
            "average_pooling2d_3 (AveragePoo (None, 1, 1, 591)    0           max_pooling2d_18[0][0]           \n",
            "__________________________________________________________________________________________________\n",
            "flatten_3 (Flatten)             (None, 591)          0           average_pooling2d_3[0][0]        \n",
            "__________________________________________________________________________________________________\n",
            "dense_5 (Dense)                 (None, 64)           37888       flatten_3[0][0]                  \n",
            "__________________________________________________________________________________________________\n",
            "dense_6 (Dense)                 (None, 10)           650         dense_5[0][0]                    \n",
            "==================================================================================================\n",
            "Total params: 1,430,574\n",
            "Trainable params: 1,430,574\n",
            "Non-trainable params: 0\n",
            "__________________________________________________________________________________________________\n"
          ],
          "name": "stdout"
        }
      ]
    },
    {
      "metadata": {
        "id": "RlyTHLJIp5M1",
        "colab_type": "code",
        "colab": {
          "base_uri": "https://localhost:8080/",
          "height": 714
        },
        "outputId": "2e7882f8-d4ab-44b2-bd0f-5b70d611cc61"
      },
      "cell_type": "code",
      "source": [
        "history = model.fit(x_train, y_train,\n",
        "                                batch_size = batch_size,\n",
        "                                epochs = epochs,\n",
        "                                verbose = 1,\n",
        "                                validation_data = (x_test,y_test))"
      ],
      "execution_count": 29,
      "outputs": [
        {
          "output_type": "stream",
          "text": [
            "Train on 50000 samples, validate on 10000 samples\n",
            "Epoch 1/20\n",
            "50000/50000 [==============================] - 44s 888us/step - loss: 1.6858 - acc: 0.3868 - val_loss: 1.2944 - val_acc: 0.5430\n",
            "Epoch 2/20\n",
            "50000/50000 [==============================] - 44s 876us/step - loss: 1.1528 - acc: 0.5947 - val_loss: 1.0457 - val_acc: 0.6385\n",
            "Epoch 3/20\n",
            "50000/50000 [==============================] - 44s 876us/step - loss: 0.9619 - acc: 0.6691 - val_loss: 0.9568 - val_acc: 0.6757\n",
            "Epoch 4/20\n",
            "50000/50000 [==============================] - 44s 878us/step - loss: 0.8430 - acc: 0.7116 - val_loss: 0.9388 - val_acc: 0.6832\n",
            "Epoch 5/20\n",
            "50000/50000 [==============================] - 44s 874us/step - loss: 0.7407 - acc: 0.7451 - val_loss: 0.8819 - val_acc: 0.7047\n",
            "Epoch 6/20\n",
            "50000/50000 [==============================] - 44s 876us/step - loss: 0.6536 - acc: 0.7752 - val_loss: 0.8470 - val_acc: 0.7258\n",
            "Epoch 7/20\n",
            "50000/50000 [==============================] - 44s 878us/step - loss: 0.5627 - acc: 0.8059 - val_loss: 0.8233 - val_acc: 0.7334\n",
            "Epoch 8/20\n",
            "50000/50000 [==============================] - 44s 877us/step - loss: 0.4829 - acc: 0.8330 - val_loss: 0.9054 - val_acc: 0.7199\n",
            "Epoch 9/20\n",
            "50000/50000 [==============================] - 44s 877us/step - loss: 0.4007 - acc: 0.8614 - val_loss: 0.8932 - val_acc: 0.7374\n",
            "Epoch 10/20\n",
            "50000/50000 [==============================] - 44s 875us/step - loss: 0.3295 - acc: 0.8860 - val_loss: 0.9592 - val_acc: 0.7305\n",
            "Epoch 11/20\n",
            "50000/50000 [==============================] - 44s 874us/step - loss: 0.2845 - acc: 0.9008 - val_loss: 1.0959 - val_acc: 0.7249\n",
            "Epoch 12/20\n",
            "50000/50000 [==============================] - 44s 873us/step - loss: 0.2152 - acc: 0.9244 - val_loss: 1.1686 - val_acc: 0.7179\n",
            "Epoch 13/20\n",
            "50000/50000 [==============================] - 44s 872us/step - loss: 0.1896 - acc: 0.9345 - val_loss: 1.2171 - val_acc: 0.7271\n",
            "Epoch 14/20\n",
            "50000/50000 [==============================] - 44s 872us/step - loss: 0.1520 - acc: 0.9459 - val_loss: 1.2729 - val_acc: 0.7268\n",
            "Epoch 15/20\n",
            "50000/50000 [==============================] - 44s 875us/step - loss: 0.1421 - acc: 0.9512 - val_loss: 1.3439 - val_acc: 0.7226\n",
            "Epoch 16/20\n",
            "50000/50000 [==============================] - 44s 876us/step - loss: 0.1390 - acc: 0.9521 - val_loss: 1.4785 - val_acc: 0.7214\n",
            "Epoch 17/20\n",
            "50000/50000 [==============================] - 44s 877us/step - loss: 0.1206 - acc: 0.9575 - val_loss: 1.7624 - val_acc: 0.6906\n",
            "Epoch 18/20\n",
            "50000/50000 [==============================] - 44s 877us/step - loss: 0.1126 - acc: 0.9612 - val_loss: 1.7248 - val_acc: 0.7103\n",
            "Epoch 19/20\n",
            "50000/50000 [==============================] - 44s 877us/step - loss: 0.1102 - acc: 0.9619 - val_loss: 1.7822 - val_acc: 0.7084\n",
            "Epoch 20/20\n",
            "50000/50000 [==============================] - 44s 876us/step - loss: 0.0896 - acc: 0.9694 - val_loss: 1.7872 - val_acc: 0.7130\n"
          ],
          "name": "stdout"
        }
      ]
    },
    {
      "metadata": {
        "id": "EoJ0yixVFjT7",
        "colab_type": "code",
        "colab": {}
      },
      "cell_type": "code",
      "source": [
        ""
      ],
      "execution_count": 0,
      "outputs": []
    }
  ]
}
